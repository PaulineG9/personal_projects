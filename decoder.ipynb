{
 "cells": [
  {
   "cell_type": "code",
   "execution_count": 3,
   "metadata": {
    "collapsed": false
   },
   "outputs": [
   ],
   "source": [
    "#store the data file\n",
    "message_file = 'data/coding_qual_input.txt'"
   ]
  },
  {
   "cell_type": "code",
   "execution_count": 6,
   "metadata": {
    "collapsed": false
   },
   "outputs": [
    {
     "name": "stdout",
     "output_type": "stream",
     "text": [
      "cause\n",
      "check\n",
      "trade\n",
      "share\n",
      "produce\n",
      "offer\n",
      "single\n",
      "back\n",
      "it\n",
      "begin\n",
      "slave\n",
      "planet\n",
      "are\n",
      "though\n",
      "guide\n",
      "am\n",
      "center\n",
      "prepare\n",
      "opposite\n",
      "class\n",
      "ease\n",
      "meant\n",
      "card\n",
      "speed\n"
     ]
    }
   ],
   "source": [
    "#create a class\n",
    "\n",
    "class MessageDecoder:\n",
    "    def __init__(self, message_file):\n",
    "        self.message_file = message_file\n",
    "        self.my_dict = None\n",
    "        self.result_pyramid = None\n",
    "\n",
    "    #a function the separate numbers and functions\n",
    "    def separate_message(self):\n",
    "        with open(self.message_file, 'r') as file:\n",
    "            plain_text = [line.strip().split() for line in file]\n",
    "            digits = []\n",
    "            charz = []\n",
    "            for message in plain_text:\n",
    "                digits.append(int(message[0]))\n",
    "                charz.append(message[1])\n",
    "\n",
    "            # Create a dictionary to store and map the texts\n",
    "            self.my_dict = dict(zip(digits, charz))\n",
    "\n",
    "    #generate a pyamid of sorten numbers\n",
    "    def generate_pyramid(self):\n",
    "        self.result_pyramid = []\n",
    "        index = 0\n",
    "\n",
    "        for i in range(1, len(self.my_dict.keys()) + 1):\n",
    "            #sorted function aranges in ascemding order unlike sort\n",
    "\n",
    "            row = sorted(self.my_dict.keys())[index: index + i]\n",
    "            self.result_pyramid.append(row)\n",
    "            index += i\n",
    "\n",
    "            #avoiding printing empty rows\n",
    "            if len(row) == 0:\n",
    "                break\n",
    "    #use your pyramid and dectionary to decode message\n",
    "    def decode_message(self):\n",
    "        for item in self.result_pyramid[:-1]:\n",
    "            #map the last value in each item, representing a key, to the given value\n",
    "            print(self.my_dict[item[-1]])\n",
    "            \n",
    "            \n",
    "if __name__ == \"__main__\":\n",
    "    decoder = MessageDecoder(message_file)\n",
    "    decoder.separate_message()\n",
    "    decoder.generate_pyramid()\n",
    "    decoder.decode_message()\n"
   ]
  },
  {
   "cell_type": "code",
   "execution_count": 0,
   "metadata": {
    "collapsed": false
   },
   "outputs": [
   ],
   "source": [
   ]
  }
 ],
 "metadata": {
  "kernelspec": {
   "argv": [
    "/usr/bin/python3",
    "-m",
    "ipykernel",
    "--HistoryManager.enabled=False",
    "--matplotlib=inline",
    "-c",
    "%config InlineBackend.figure_formats = set(['retina'])\nimport matplotlib; matplotlib.rcParams['figure.figsize'] = (12, 7)",
    "-f",
    "{connection_file}"
   ],
   "display_name": "Python 3 (system-wide)",
   "env": {
   },
   "language": "python",
   "metadata": {
    "cocalc": {
     "description": "Python 3 programming language",
     "priority": 100,
     "url": "https://www.python.org/"
    }
   },
   "name": "python3",
   "resource_dir": "/ext/jupyter/kernels/python3"
  },
  "language_info": {
   "codemirror_mode": {
    "name": "ipython",
    "version": 3
   },
   "file_extension": ".py",
   "mimetype": "text/x-python",
   "name": "python",
   "nbconvert_exporter": "python",
   "pygments_lexer": "ipython3",
   "version": "3.10.12"
  }
 },
 "nbformat": 4,
 "nbformat_minor": 4
}